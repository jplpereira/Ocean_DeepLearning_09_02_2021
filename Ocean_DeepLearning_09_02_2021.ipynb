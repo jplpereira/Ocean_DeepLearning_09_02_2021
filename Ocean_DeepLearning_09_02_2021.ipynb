{
  "nbformat": 4,
  "nbformat_minor": 0,
  "metadata": {
    "colab": {
      "name": "Ocean_DeepLearning_09_02_2021.ipynb",
      "provenance": [],
      "collapsed_sections": [],
      "authorship_tag": "ABX9TyPa68aBNV59SITQZchsEV9y",
      "include_colab_link": true
    },
    "kernelspec": {
      "name": "python3",
      "display_name": "Python 3"
    }
  },
  "cells": [
    {
      "cell_type": "markdown",
      "metadata": {
        "id": "view-in-github",
        "colab_type": "text"
      },
      "source": [
        "<a href=\"https://colab.research.google.com/github/jplpereira/Ocean_DeepLearning_09_02_2021/blob/main/Ocean_DeepLearning_09_02_2021.ipynb\" target=\"_parent\"><img src=\"https://colab.research.google.com/assets/colab-badge.svg\" alt=\"Open In Colab\"/></a>"
      ]
    },
    {
      "cell_type": "markdown",
      "metadata": {
        "id": "cmBzpvA99fxp"
      },
      "source": [
        "Importando a biblioteca Keras"
      ]
    },
    {
      "cell_type": "code",
      "metadata": {
        "id": "BWPdDBUL145D"
      },
      "source": [
        "import keras"
      ],
      "execution_count": 1,
      "outputs": []
    },
    {
      "cell_type": "markdown",
      "metadata": {
        "id": "j9Xy5iYZ9j1M"
      },
      "source": [
        "Importando o banco de dados mnist com os algarismos escritos à mão"
      ]
    },
    {
      "cell_type": "code",
      "metadata": {
        "id": "A4ALXH858CCl"
      },
      "source": [
        "from keras.datasets import mnist"
      ],
      "execution_count": 2,
      "outputs": []
    },
    {
      "cell_type": "markdown",
      "metadata": {
        "id": "HeAtzfnRVd9h"
      },
      "source": [
        "Importando a função to_categorical da biblioteca Keras"
      ]
    },
    {
      "cell_type": "code",
      "metadata": {
        "id": "pfSFOoY7VdH-"
      },
      "source": [
        "from keras.utils import to_categorical as to_cat"
      ],
      "execution_count": 3,
      "outputs": []
    },
    {
      "cell_type": "markdown",
      "metadata": {
        "id": "wJN9ZzSx9rRG"
      },
      "source": [
        "Importando a arquitetura da rede neural"
      ]
    },
    {
      "cell_type": "code",
      "metadata": {
        "id": "YMEq0yDL8xT3"
      },
      "source": [
        "from tensorflow.python.keras import Sequential"
      ],
      "execution_count": 4,
      "outputs": []
    },
    {
      "cell_type": "markdown",
      "metadata": {
        "id": "bzIzbTr3-E7Q"
      },
      "source": [
        "Dense é o neurônio (base da rede) e Dropout é o regularizador que evita o overfitting"
      ]
    },
    {
      "cell_type": "code",
      "metadata": {
        "id": "TdGr2GAF8_QQ"
      },
      "source": [
        "from tensorflow.python.keras.layers import Dense, Dropout"
      ],
      "execution_count": 5,
      "outputs": []
    },
    {
      "cell_type": "markdown",
      "metadata": {
        "id": "JGYMhd7i-Qas"
      },
      "source": [
        "RMSdrop é o otimizador (back propagation)"
      ]
    },
    {
      "cell_type": "code",
      "metadata": {
        "id": "c8gNdYWn9DdP"
      },
      "source": [
        "from tensorflow.compat.v1.keras.optimizers import RMSprop"
      ],
      "execution_count": 6,
      "outputs": []
    },
    {
      "cell_type": "markdown",
      "metadata": {
        "id": "Lo2gkybIDjS5"
      },
      "source": [
        "Importando a função pyplot da biblioteca matplotlib"
      ]
    },
    {
      "cell_type": "code",
      "metadata": {
        "id": "Gu-PeacjDjiO"
      },
      "source": [
        "import matplotlib.pyplot as plt"
      ],
      "execution_count": 7,
      "outputs": []
    },
    {
      "cell_type": "markdown",
      "metadata": {
        "id": "DQOZIAp7-caS"
      },
      "source": [
        "Carregando os dados de treino e teste"
      ]
    },
    {
      "cell_type": "code",
      "metadata": {
        "id": "F0nN7F2O9LHx"
      },
      "source": [
        "(x_treino, y_treino), (x_teste, y_teste) = mnist.load_data()"
      ],
      "execution_count": 8,
      "outputs": []
    },
    {
      "cell_type": "markdown",
      "metadata": {
        "id": "eSweFQ5K-1i0"
      },
      "source": [
        "Analisando o dataset e a sua estrutura"
      ]
    },
    {
      "cell_type": "code",
      "metadata": {
        "colab": {
          "base_uri": "https://localhost:8080/"
        },
        "id": "rQXmzvNn-eq4",
        "outputId": "d90c448a-72f9-4bb2-8765-5459a1cb5216"
      },
      "source": [
        "print('Quantidade de imagens para treino:', len(x_treino))"
      ],
      "execution_count": 9,
      "outputs": [
        {
          "output_type": "stream",
          "text": [
            "Quantidade de imagens para treino: 60000\n"
          ],
          "name": "stdout"
        }
      ]
    },
    {
      "cell_type": "code",
      "metadata": {
        "colab": {
          "base_uri": "https://localhost:8080/"
        },
        "id": "mPX-Yjud_IsR",
        "outputId": "9257e5b0-d788-4673-b615-664d61bc63a7"
      },
      "source": [
        "print('Quantidade de imagens para teste:', len(x_teste))"
      ],
      "execution_count": 10,
      "outputs": [
        {
          "output_type": "stream",
          "text": [
            "Quantidade de imagens para teste: 10000\n"
          ],
          "name": "stdout"
        }
      ]
    },
    {
      "cell_type": "code",
      "metadata": {
        "colab": {
          "base_uri": "https://localhost:8080/"
        },
        "id": "TvMrnZqz_qCX",
        "outputId": "3bd58377-2782-42b9-82e2-78011631c203"
      },
      "source": [
        "print('Tipo de x_treino:', type(x_treino))"
      ],
      "execution_count": 11,
      "outputs": [
        {
          "output_type": "stream",
          "text": [
            "Tipo de x_treino: <class 'numpy.ndarray'>\n"
          ],
          "name": "stdout"
        }
      ]
    },
    {
      "cell_type": "code",
      "metadata": {
        "colab": {
          "base_uri": "https://localhost:8080/"
        },
        "id": "uOU-MQ0f_3ao",
        "outputId": "aadd56fd-d3c5-46c0-d893-bb30376fd496"
      },
      "source": [
        "primeira_imagem = x_treino[0]\r\n",
        "primeira_imagem"
      ],
      "execution_count": 12,
      "outputs": [
        {
          "output_type": "execute_result",
          "data": {
            "text/plain": [
              "array([[  0,   0,   0,   0,   0,   0,   0,   0,   0,   0,   0,   0,   0,\n",
              "          0,   0,   0,   0,   0,   0,   0,   0,   0,   0,   0,   0,   0,\n",
              "          0,   0],\n",
              "       [  0,   0,   0,   0,   0,   0,   0,   0,   0,   0,   0,   0,   0,\n",
              "          0,   0,   0,   0,   0,   0,   0,   0,   0,   0,   0,   0,   0,\n",
              "          0,   0],\n",
              "       [  0,   0,   0,   0,   0,   0,   0,   0,   0,   0,   0,   0,   0,\n",
              "          0,   0,   0,   0,   0,   0,   0,   0,   0,   0,   0,   0,   0,\n",
              "          0,   0],\n",
              "       [  0,   0,   0,   0,   0,   0,   0,   0,   0,   0,   0,   0,   0,\n",
              "          0,   0,   0,   0,   0,   0,   0,   0,   0,   0,   0,   0,   0,\n",
              "          0,   0],\n",
              "       [  0,   0,   0,   0,   0,   0,   0,   0,   0,   0,   0,   0,   0,\n",
              "          0,   0,   0,   0,   0,   0,   0,   0,   0,   0,   0,   0,   0,\n",
              "          0,   0],\n",
              "       [  0,   0,   0,   0,   0,   0,   0,   0,   0,   0,   0,   0,   3,\n",
              "         18,  18,  18, 126, 136, 175,  26, 166, 255, 247, 127,   0,   0,\n",
              "          0,   0],\n",
              "       [  0,   0,   0,   0,   0,   0,   0,   0,  30,  36,  94, 154, 170,\n",
              "        253, 253, 253, 253, 253, 225, 172, 253, 242, 195,  64,   0,   0,\n",
              "          0,   0],\n",
              "       [  0,   0,   0,   0,   0,   0,   0,  49, 238, 253, 253, 253, 253,\n",
              "        253, 253, 253, 253, 251,  93,  82,  82,  56,  39,   0,   0,   0,\n",
              "          0,   0],\n",
              "       [  0,   0,   0,   0,   0,   0,   0,  18, 219, 253, 253, 253, 253,\n",
              "        253, 198, 182, 247, 241,   0,   0,   0,   0,   0,   0,   0,   0,\n",
              "          0,   0],\n",
              "       [  0,   0,   0,   0,   0,   0,   0,   0,  80, 156, 107, 253, 253,\n",
              "        205,  11,   0,  43, 154,   0,   0,   0,   0,   0,   0,   0,   0,\n",
              "          0,   0],\n",
              "       [  0,   0,   0,   0,   0,   0,   0,   0,   0,  14,   1, 154, 253,\n",
              "         90,   0,   0,   0,   0,   0,   0,   0,   0,   0,   0,   0,   0,\n",
              "          0,   0],\n",
              "       [  0,   0,   0,   0,   0,   0,   0,   0,   0,   0,   0, 139, 253,\n",
              "        190,   2,   0,   0,   0,   0,   0,   0,   0,   0,   0,   0,   0,\n",
              "          0,   0],\n",
              "       [  0,   0,   0,   0,   0,   0,   0,   0,   0,   0,   0,  11, 190,\n",
              "        253,  70,   0,   0,   0,   0,   0,   0,   0,   0,   0,   0,   0,\n",
              "          0,   0],\n",
              "       [  0,   0,   0,   0,   0,   0,   0,   0,   0,   0,   0,   0,  35,\n",
              "        241, 225, 160, 108,   1,   0,   0,   0,   0,   0,   0,   0,   0,\n",
              "          0,   0],\n",
              "       [  0,   0,   0,   0,   0,   0,   0,   0,   0,   0,   0,   0,   0,\n",
              "         81, 240, 253, 253, 119,  25,   0,   0,   0,   0,   0,   0,   0,\n",
              "          0,   0],\n",
              "       [  0,   0,   0,   0,   0,   0,   0,   0,   0,   0,   0,   0,   0,\n",
              "          0,  45, 186, 253, 253, 150,  27,   0,   0,   0,   0,   0,   0,\n",
              "          0,   0],\n",
              "       [  0,   0,   0,   0,   0,   0,   0,   0,   0,   0,   0,   0,   0,\n",
              "          0,   0,  16,  93, 252, 253, 187,   0,   0,   0,   0,   0,   0,\n",
              "          0,   0],\n",
              "       [  0,   0,   0,   0,   0,   0,   0,   0,   0,   0,   0,   0,   0,\n",
              "          0,   0,   0,   0, 249, 253, 249,  64,   0,   0,   0,   0,   0,\n",
              "          0,   0],\n",
              "       [  0,   0,   0,   0,   0,   0,   0,   0,   0,   0,   0,   0,   0,\n",
              "          0,  46, 130, 183, 253, 253, 207,   2,   0,   0,   0,   0,   0,\n",
              "          0,   0],\n",
              "       [  0,   0,   0,   0,   0,   0,   0,   0,   0,   0,   0,   0,  39,\n",
              "        148, 229, 253, 253, 253, 250, 182,   0,   0,   0,   0,   0,   0,\n",
              "          0,   0],\n",
              "       [  0,   0,   0,   0,   0,   0,   0,   0,   0,   0,  24, 114, 221,\n",
              "        253, 253, 253, 253, 201,  78,   0,   0,   0,   0,   0,   0,   0,\n",
              "          0,   0],\n",
              "       [  0,   0,   0,   0,   0,   0,   0,   0,  23,  66, 213, 253, 253,\n",
              "        253, 253, 198,  81,   2,   0,   0,   0,   0,   0,   0,   0,   0,\n",
              "          0,   0],\n",
              "       [  0,   0,   0,   0,   0,   0,  18, 171, 219, 253, 253, 253, 253,\n",
              "        195,  80,   9,   0,   0,   0,   0,   0,   0,   0,   0,   0,   0,\n",
              "          0,   0],\n",
              "       [  0,   0,   0,   0,  55, 172, 226, 253, 253, 253, 253, 244, 133,\n",
              "         11,   0,   0,   0,   0,   0,   0,   0,   0,   0,   0,   0,   0,\n",
              "          0,   0],\n",
              "       [  0,   0,   0,   0, 136, 253, 253, 253, 212, 135, 132,  16,   0,\n",
              "          0,   0,   0,   0,   0,   0,   0,   0,   0,   0,   0,   0,   0,\n",
              "          0,   0],\n",
              "       [  0,   0,   0,   0,   0,   0,   0,   0,   0,   0,   0,   0,   0,\n",
              "          0,   0,   0,   0,   0,   0,   0,   0,   0,   0,   0,   0,   0,\n",
              "          0,   0],\n",
              "       [  0,   0,   0,   0,   0,   0,   0,   0,   0,   0,   0,   0,   0,\n",
              "          0,   0,   0,   0,   0,   0,   0,   0,   0,   0,   0,   0,   0,\n",
              "          0,   0],\n",
              "       [  0,   0,   0,   0,   0,   0,   0,   0,   0,   0,   0,   0,   0,\n",
              "          0,   0,   0,   0,   0,   0,   0,   0,   0,   0,   0,   0,   0,\n",
              "          0,   0]], dtype=uint8)"
            ]
          },
          "metadata": {
            "tags": []
          },
          "execution_count": 12
        }
      ]
    },
    {
      "cell_type": "code",
      "metadata": {
        "colab": {
          "base_uri": "https://localhost:8080/"
        },
        "id": "plEqVezBAyBA",
        "outputId": "d1f2d2eb-68fb-4a9c-9aec-d52690107d6e"
      },
      "source": [
        "print('A primeira imagem representa o número: ', y_treino[0])"
      ],
      "execution_count": 13,
      "outputs": [
        {
          "output_type": "stream",
          "text": [
            "A primeira imagem representa o número:  5\n"
          ],
          "name": "stdout"
        }
      ]
    },
    {
      "cell_type": "code",
      "metadata": {
        "colab": {
          "base_uri": "https://localhost:8080/"
        },
        "id": "zjYccpVlA5hC",
        "outputId": "3ab003c4-996f-423a-e769-62bd5b8ab07a"
      },
      "source": [
        "print('Formato da primeira imagem: ', primeira_imagem.shape)"
      ],
      "execution_count": 14,
      "outputs": [
        {
          "output_type": "stream",
          "text": [
            "Formato da primeira imagem:  (28, 28)\n"
          ],
          "name": "stdout"
        }
      ]
    },
    {
      "cell_type": "markdown",
      "metadata": {
        "id": "1AA8wwRMD5Gz"
      },
      "source": [
        "Mostrando a imagem cujo indice foi escolhido"
      ]
    },
    {
      "cell_type": "code",
      "metadata": {
        "colab": {
          "base_uri": "https://localhost:8080/",
          "height": 298
        },
        "id": "HtMMXI8qDdaR",
        "outputId": "ecff9b4d-6898-4120-c309-9bf80253cf50"
      },
      "source": [
        "indice = 7000\r\n",
        "print('A imagem representa o número: ', y_treino[indice])\r\n",
        "plt.imshow(x_treino[indice], cmap=plt.cm.binary)"
      ],
      "execution_count": 15,
      "outputs": [
        {
          "output_type": "stream",
          "text": [
            "A imagem representa o número:  8\n"
          ],
          "name": "stdout"
        },
        {
          "output_type": "execute_result",
          "data": {
            "text/plain": [
              "<matplotlib.image.AxesImage at 0x7f994da9e438>"
            ]
          },
          "metadata": {
            "tags": []
          },
          "execution_count": 15
        },
        {
          "output_type": "display_data",
          "data": {
            "image/png": "[encoded data removed]",
            "text/plain": [
              "<Figure size 432x288 with 1 Axes>"
            ]
          },
          "metadata": {
            "tags": [],
            "needs_background": "light"
          }
        }
      ]
    },
    {
      "cell_type": "markdown",
      "metadata": {
        "id": "HlzmSI56EwRg"
      },
      "source": [
        "Fluxo para construção de rede neural\r\n",
        "*   Organizar a camada de entrada (input)\r\n",
        "*   Organizar a camada de saída (output)\r\n",
        "*   Estruturar a nossa rede neural\r\n",
        "*   Treinar o modelo\r\n",
        "*   Fazer as previsões"
      ]
    },
    {
      "cell_type": "markdown",
      "metadata": {
        "id": "oG4BFuquFaTI"
      },
      "source": [
        "Achatando a matriz de pixels e transformando numa única lista"
      ]
    },
    {
      "cell_type": "code",
      "metadata": {
        "id": "HY1niYSeEPfQ"
      },
      "source": [
        "quantidade_treino = len(x_treino)\r\n",
        "quantidade_teste = len(x_teste)\r\n",
        "\r\n",
        "resolucao_imagem = x_treino[0].shape\r\n",
        "resolucao_total = resolucao_imagem[0] * resolucao_imagem[1]\r\n",
        "\r\n",
        "x_treino = x_treino.reshape(quantidade_treino, resolucao_total)\r\n",
        "x_teste = x_teste.reshape(quantidade_teste, resolucao_total)"
      ],
      "execution_count": 16,
      "outputs": []
    },
    {
      "cell_type": "code",
      "metadata": {
        "colab": {
          "base_uri": "https://localhost:8080/"
        },
        "id": "Wp0-FG-NFfhg",
        "outputId": "8358a626-de8a-4cc6-abf4-7fce9ce50c06"
      },
      "source": [
        "print('Quantidade de itens em x_treino[0]: ', len(x_treino[0]))\r\n",
        "print(x_treino[0])"
      ],
      "execution_count": 17,
      "outputs": [
        {
          "output_type": "stream",
          "text": [
            "Quantidade de itens em x_treino[0]:  784\n",
            "[  0   0   0   0   0   0   0   0   0   0   0   0   0   0   0   0   0   0\n",
            "   0   0   0   0   0   0   0   0   0   0   0   0   0   0   0   0   0   0\n",
            "   0   0   0   0   0   0   0   0   0   0   0   0   0   0   0   0   0   0\n",
            "   0   0   0   0   0   0   0   0   0   0   0   0   0   0   0   0   0   0\n",
            "   0   0   0   0   0   0   0   0   0   0   0   0   0   0   0   0   0   0\n",
            "   0   0   0   0   0   0   0   0   0   0   0   0   0   0   0   0   0   0\n",
            "   0   0   0   0   0   0   0   0   0   0   0   0   0   0   0   0   0   0\n",
            "   0   0   0   0   0   0   0   0   0   0   0   0   0   0   0   0   0   0\n",
            "   0   0   0   0   0   0   0   0   3  18  18  18 126 136 175  26 166 255\n",
            " 247 127   0   0   0   0   0   0   0   0   0   0   0   0  30  36  94 154\n",
            " 170 253 253 253 253 253 225 172 253 242 195  64   0   0   0   0   0   0\n",
            "   0   0   0   0   0  49 238 253 253 253 253 253 253 253 253 251  93  82\n",
            "  82  56  39   0   0   0   0   0   0   0   0   0   0   0   0  18 219 253\n",
            " 253 253 253 253 198 182 247 241   0   0   0   0   0   0   0   0   0   0\n",
            "   0   0   0   0   0   0   0   0  80 156 107 253 253 205  11   0  43 154\n",
            "   0   0   0   0   0   0   0   0   0   0   0   0   0   0   0   0   0   0\n",
            "   0  14   1 154 253  90   0   0   0   0   0   0   0   0   0   0   0   0\n",
            "   0   0   0   0   0   0   0   0   0   0   0   0   0 139 253 190   2   0\n",
            "   0   0   0   0   0   0   0   0   0   0   0   0   0   0   0   0   0   0\n",
            "   0   0   0   0   0  11 190 253  70   0   0   0   0   0   0   0   0   0\n",
            "   0   0   0   0   0   0   0   0   0   0   0   0   0   0   0   0  35 241\n",
            " 225 160 108   1   0   0   0   0   0   0   0   0   0   0   0   0   0   0\n",
            "   0   0   0   0   0   0   0   0   0  81 240 253 253 119  25   0   0   0\n",
            "   0   0   0   0   0   0   0   0   0   0   0   0   0   0   0   0   0   0\n",
            "   0   0  45 186 253 253 150  27   0   0   0   0   0   0   0   0   0   0\n",
            "   0   0   0   0   0   0   0   0   0   0   0   0   0  16  93 252 253 187\n",
            "   0   0   0   0   0   0   0   0   0   0   0   0   0   0   0   0   0   0\n",
            "   0   0   0   0   0   0   0 249 253 249  64   0   0   0   0   0   0   0\n",
            "   0   0   0   0   0   0   0   0   0   0   0   0   0   0  46 130 183 253\n",
            " 253 207   2   0   0   0   0   0   0   0   0   0   0   0   0   0   0   0\n",
            "   0   0   0   0  39 148 229 253 253 253 250 182   0   0   0   0   0   0\n",
            "   0   0   0   0   0   0   0   0   0   0   0   0  24 114 221 253 253 253\n",
            " 253 201  78   0   0   0   0   0   0   0   0   0   0   0   0   0   0   0\n",
            "   0   0  23  66 213 253 253 253 253 198  81   2   0   0   0   0   0   0\n",
            "   0   0   0   0   0   0   0   0   0   0  18 171 219 253 253 253 253 195\n",
            "  80   9   0   0   0   0   0   0   0   0   0   0   0   0   0   0   0   0\n",
            "  55 172 226 253 253 253 253 244 133  11   0   0   0   0   0   0   0   0\n",
            "   0   0   0   0   0   0   0   0   0   0 136 253 253 253 212 135 132  16\n",
            "   0   0   0   0   0   0   0   0   0   0   0   0   0   0   0   0   0   0\n",
            "   0   0   0   0   0   0   0   0   0   0   0   0   0   0   0   0   0   0\n",
            "   0   0   0   0   0   0   0   0   0   0   0   0   0   0   0   0   0   0\n",
            "   0   0   0   0   0   0   0   0   0   0   0   0   0   0   0   0   0   0\n",
            "   0   0   0   0   0   0   0   0   0   0   0   0   0   0   0   0   0   0\n",
            "   0   0   0   0   0   0   0   0   0   0]\n"
          ],
          "name": "stdout"
        }
      ]
    },
    {
      "cell_type": "markdown",
      "metadata": {
        "id": "9Re-kKibHFkh"
      },
      "source": [
        "Normalização dos dados\r\n",
        "* 255 vira 1\r\n",
        "* 127 vire aproximadamente 0.5\r\n",
        "* 0 continue 0"
      ]
    },
    {
      "cell_type": "code",
      "metadata": {
        "id": "UVFKSUcKGU0m"
      },
      "source": [
        "x_treino = x_treino.astype('float32')\r\n",
        "x_teste = x_teste.astype('float32')\r\n",
        "x_treino /= 255\r\n",
        "x_teste /= 255"
      ],
      "execution_count": 18,
      "outputs": []
    },
    {
      "cell_type": "code",
      "metadata": {
        "colab": {
          "base_uri": "https://localhost:8080/"
        },
        "id": "yuKNXYJ8Pc7_",
        "outputId": "f691c901-2292-445d-afdd-ed9ffc3b1448"
      },
      "source": [
        "imagem = 0\r\n",
        "pixel = 350\r\n",
        "print('Valor do pixel: ', x_treino[imagem][pixel], '\\nTipo do valor do pixel: ', type(x_treino[imagem][pixel]))"
      ],
      "execution_count": 19,
      "outputs": [
        {
          "output_type": "stream",
          "text": [
            "Valor do pixel:  0.27450982 \n",
            "Tipo do valor do pixel:  <class 'numpy.float32'>\n"
          ],
          "name": "stdout"
        }
      ]
    },
    {
      "cell_type": "markdown",
      "metadata": {
        "id": "wtZ5b6M5Tmi_"
      },
      "source": [
        "Preparação da camada de saída (output)"
      ]
    },
    {
      "cell_type": "code",
      "metadata": {
        "colab": {
          "base_uri": "https://localhost:8080/"
        },
        "id": "HGiMZ-sSTq_m",
        "outputId": "d52ab183-e54e-4c85-93f1-d62f7aef8fb3"
      },
      "source": [
        "valores_unicos = set(y_treino)\r\n",
        "valores_unicos"
      ],
      "execution_count": 20,
      "outputs": [
        {
          "output_type": "execute_result",
          "data": {
            "text/plain": [
              "{0, 1, 2, 3, 4, 5, 6, 7, 8, 9}"
            ]
          },
          "metadata": {
            "tags": []
          },
          "execution_count": 20
        }
      ]
    },
    {
      "cell_type": "code",
      "metadata": {
        "colab": {
          "base_uri": "https://localhost:8080/"
        },
        "id": "xVGKsMYhUWnw",
        "outputId": "65155429-88ef-4194-e0f3-265c52eae855"
      },
      "source": [
        "quantidade_valores_unicos = len(valores_unicos)\r\n",
        "quantidade_valores_unicos"
      ],
      "execution_count": 21,
      "outputs": [
        {
          "output_type": "execute_result",
          "data": {
            "text/plain": [
              "10"
            ]
          },
          "metadata": {
            "tags": []
          },
          "execution_count": 21
        }
      ]
    },
    {
      "cell_type": "code",
      "metadata": {
        "colab": {
          "base_uri": "https://localhost:8080/"
        },
        "id": "7dh0-Zu1VLnx",
        "outputId": "0258c7f7-8038-4222-89de-3606bdbaedcc"
      },
      "source": [
        "print('y_teste[0] antes: ', y_treino[0])"
      ],
      "execution_count": 22,
      "outputs": [
        {
          "output_type": "stream",
          "text": [
            "y_teste[0] antes:  5\n"
          ],
          "name": "stdout"
        }
      ]
    },
    {
      "cell_type": "code",
      "metadata": {
        "id": "Tc8-T89oUfJG"
      },
      "source": [
        "y_treino = to_cat(y_treino, quantidade_valores_unicos)\r\n",
        "y_teste = to_cat(y_teste, quantidade_valores_unicos)"
      ],
      "execution_count": 23,
      "outputs": []
    },
    {
      "cell_type": "code",
      "metadata": {
        "colab": {
          "base_uri": "https://localhost:8080/"
        },
        "id": "y-NgX7FfVR4q",
        "outputId": "9d18a759-7041-48b6-ec52-a1658022eac2"
      },
      "source": [
        "print('y_teste[0] depois: ', y_treino[0])"
      ],
      "execution_count": 24,
      "outputs": [
        {
          "output_type": "stream",
          "text": [
            "y_teste[0] depois:  [0. 0. 0. 0. 0. 1. 0. 0. 0. 0.]\n"
          ],
          "name": "stdout"
        }
      ]
    },
    {
      "cell_type": "markdown",
      "metadata": {
        "id": "F5XfXYctWSK7"
      },
      "source": [
        "Criando o modelo da rede neural"
      ]
    },
    {
      "cell_type": "code",
      "metadata": {
        "id": "nha2B1dLWSkt"
      },
      "source": [
        "model = Sequential()"
      ],
      "execution_count": 25,
      "outputs": []
    },
    {
      "cell_type": "markdown",
      "metadata": {
        "id": "3IypRk0wW3-B"
      },
      "source": [
        "Primeira hidden layer\r\n",
        "* 30 Neurônios\r\n",
        "* Função de ativação: ReLu\r\n",
        "* Como estamos na primeira hidden layer, precisamos informar o formato da camada de entrada (input)"
      ]
    },
    {
      "cell_type": "code",
      "metadata": {
        "id": "uGjwOhKYWvNy"
      },
      "source": [
        "model.add(Dense(30, activation='relu', input_shape=(resolucao_total,)))"
      ],
      "execution_count": 26,
      "outputs": []
    },
    {
      "cell_type": "markdown",
      "metadata": {
        "id": "8KFDWf8pXj_0"
      },
      "source": [
        "Adicionamos um regularizador que ajuda a evitar o overfitting"
      ]
    },
    {
      "cell_type": "code",
      "metadata": {
        "id": "iqyV9BnTXf00"
      },
      "source": [
        "model.add(Dropout(0.2))"
      ],
      "execution_count": 27,
      "outputs": []
    },
    {
      "cell_type": "markdown",
      "metadata": {
        "id": "ia-Y7LH2XBgV"
      },
      "source": [
        "Segunda hidden layer\r\n",
        "* 20 neurônios\r\n",
        "* Função de ativação: ReLu"
      ]
    },
    {
      "cell_type": "code",
      "metadata": {
        "id": "CKTerJf2XSiJ"
      },
      "source": [
        "model.add(Dense(20, activation='relu'))"
      ],
      "execution_count": 28,
      "outputs": []
    },
    {
      "cell_type": "markdown",
      "metadata": {
        "id": "FD6sr2OsXTCP"
      },
      "source": [
        "Outra camada de regularizador"
      ]
    },
    {
      "cell_type": "code",
      "metadata": {
        "id": "PzDNh52tW8l4"
      },
      "source": [
        "model.add(Dropout(0.2))"
      ],
      "execution_count": 29,
      "outputs": []
    },
    {
      "cell_type": "markdown",
      "metadata": {
        "id": "w6ipLocmYFSL"
      },
      "source": [
        "Finalizamos com a camada de saída (output), informando a quantidade de valores únicos que, no caso, é 10\r\n",
        "* Neurônios: 10\r\n",
        "* Função de ativação: Softmax"
      ]
    },
    {
      "cell_type": "code",
      "metadata": {
        "id": "a4W470_XYFbN"
      },
      "source": [
        "model.add(Dense(quantidade_valores_unicos, activation='softmax'))"
      ],
      "execution_count": 30,
      "outputs": []
    },
    {
      "cell_type": "markdown",
      "metadata": {
        "id": "fU9rysrXXtPa"
      },
      "source": [
        "Exibe o resumo do modelo criado"
      ]
    },
    {
      "cell_type": "code",
      "metadata": {
        "colab": {
          "base_uri": "https://localhost:8080/"
        },
        "id": "cE_lckNJXE0W",
        "outputId": "8cf009e0-d6c7-4fe8-be4b-6463e65a7094"
      },
      "source": [
        "model.summary()"
      ],
      "execution_count": 31,
      "outputs": [
        {
          "output_type": "stream",
          "text": [
            "Model: \"sequential\"\n",
            "_________________________________________________________________\n",
            "Layer (type)                 Output Shape              Param #   \n",
            "=================================================================\n",
            "dense (Dense)                (None, 30)                23550     \n",
            "_________________________________________________________________\n",
            "dropout (Dropout)            (None, 30)                0         \n",
            "_________________________________________________________________\n",
            "dense_1 (Dense)              (None, 20)                620       \n",
            "_________________________________________________________________\n",
            "dropout_1 (Dropout)          (None, 20)                0         \n",
            "_________________________________________________________________\n",
            "dense_2 (Dense)              (None, 10)                210       \n",
            "=================================================================\n",
            "Total params: 24,380\n",
            "Trainable params: 24,380\n",
            "Non-trainable params: 0\n",
            "_________________________________________________________________\n"
          ],
          "name": "stdout"
        }
      ]
    },
    {
      "cell_type": "markdown",
      "metadata": {
        "id": "wmJAq74iZ8AH"
      },
      "source": [
        "Para compilar o modelo, precisamos informar:\r\n",
        "* Função de erro\r\n",
        "* Algoritmo de backpropagation\r\n",
        "* Dados para treino (imagens normalizadas e labels categorizadas)\r\n",
        "* Dados para teste (imagens normalizadas e labels categorizadas)\r\n",
        "* Quantidade de épocas que queremos rodar (sendo 1 época equivalente a analisar TODAS as imagens de treino)\r\n",
        "* Tamanho de cada batch\r\n",
        "  - supondo que  "
      ]
    },
    {
      "cell_type": "code",
      "metadata": {
        "id": "cFmveofnXayg"
      },
      "source": [
        "model.compile(loss='categorical_crossentropy',\r\n",
        "              optimizer=RMSprop(),\r\n",
        "              metrics=['accuracy'])"
      ],
      "execution_count": 32,
      "outputs": []
    },
    {
      "cell_type": "markdown",
      "metadata": {
        "id": "g5jWptTTa0ET"
      },
      "source": [
        "Treina o modelo"
      ]
    },
    {
      "cell_type": "code",
      "metadata": {
        "colab": {
          "base_uri": "https://localhost:8080/"
        },
        "id": "AzFFfXGta0L0",
        "outputId": "c7553dd5-4187-4208-d74c-757fe46be999"
      },
      "source": [
        "history = model.fit(x_treino, y_treino,\r\n",
        "    batch_size = 128,\r\n",
        "    epochs=10,\r\n",
        "    verbose=1,\r\n",
        "    validation_data=(x_teste,y_teste)\r\n",
        ")"
      ],
      "execution_count": 33,
      "outputs": [
        {
          "output_type": "stream",
          "text": [
            "Epoch 1/10\n",
            "469/469 [==============================] - 3s 4ms/step - loss: 1.2053 - accuracy: 0.5987 - val_loss: 0.3295 - val_accuracy: 0.9091\n",
            "Epoch 2/10\n",
            "469/469 [==============================] - 2s 3ms/step - loss: 0.5148 - accuracy: 0.8427 - val_loss: 0.2539 - val_accuracy: 0.9247\n",
            "Epoch 3/10\n",
            "469/469 [==============================] - 1s 3ms/step - loss: 0.4231 - accuracy: 0.8731 - val_loss: 0.2211 - val_accuracy: 0.9337\n",
            "Epoch 4/10\n",
            "469/469 [==============================] - 1s 3ms/step - loss: 0.3762 - accuracy: 0.8893 - val_loss: 0.2013 - val_accuracy: 0.9399\n",
            "Epoch 5/10\n",
            "469/469 [==============================] - 1s 3ms/step - loss: 0.3503 - accuracy: 0.8971 - val_loss: 0.1929 - val_accuracy: 0.9432\n",
            "Epoch 6/10\n",
            "469/469 [==============================] - 2s 3ms/step - loss: 0.3224 - accuracy: 0.9061 - val_loss: 0.1776 - val_accuracy: 0.9499\n",
            "Epoch 7/10\n",
            "469/469 [==============================] - 1s 3ms/step - loss: 0.3097 - accuracy: 0.9102 - val_loss: 0.1766 - val_accuracy: 0.9484\n",
            "Epoch 8/10\n",
            "469/469 [==============================] - 1s 3ms/step - loss: 0.2952 - accuracy: 0.9146 - val_loss: 0.1684 - val_accuracy: 0.9516\n",
            "Epoch 9/10\n",
            "469/469 [==============================] - 2s 4ms/step - loss: 0.2895 - accuracy: 0.9164 - val_loss: 0.1710 - val_accuracy: 0.9508\n",
            "Epoch 10/10\n",
            "469/469 [==============================] - 1s 3ms/step - loss: 0.2762 - accuracy: 0.9199 - val_loss: 0.1642 - val_accuracy: 0.9531\n"
          ],
          "name": "stdout"
        }
      ]
    },
    {
      "cell_type": "markdown",
      "metadata": {
        "id": "NU0-_j7Xbrjy"
      },
      "source": [
        "Fazendo as previsões"
      ]
    },
    {
      "cell_type": "code",
      "metadata": {
        "colab": {
          "base_uri": "https://localhost:8080/"
        },
        "id": "23S12E8lb9rK",
        "outputId": "d489a8af-e5a5-4b55-92b1-f823c5741dd6"
      },
      "source": [
        "indice = 100\r\n",
        "\r\n",
        "print('Valor categórico em y_teste[indice]: ', y_teste[indice])\r\n",
        "\r\n",
        "imagem = x_teste[indice].reshape(1, resolucao_total)\r\n",
        "\r\n",
        "prediction = model.predict(imagem)\r\n",
        "print('Previsão: ', prediction)\r\n",
        "\r\n",
        "(x_treino_img, y_treino_img), (x_teste_img, y_teste_img) = mnist.load_data()"
      ],
      "execution_count": 36,
      "outputs": [
        {
          "output_type": "stream",
          "text": [
            "Valor categórico em y_teste[indice]:  [0. 0. 0. 0. 0. 0. 1. 0. 0. 0.]\n"
          ],
          "name": "stdout"
        }
      ]
    },
    {
      "cell_type": "markdown",
      "metadata": {
        "id": "en6APKeAdviM"
      },
      "source": [
        ""
      ]
    },
    {
      "cell_type": "code",
      "metadata": {
        "id": "A5oqh9ancBuB"
      },
      "source": [
        ""
      ],
      "execution_count": null,
      "outputs": []
    }
  ]
}